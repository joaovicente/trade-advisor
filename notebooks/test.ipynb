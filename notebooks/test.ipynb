{
 "cells": [
  {
   "cell_type": "code",
   "execution_count": 1,
   "metadata": {},
   "outputs": [
    {
     "name": "stderr",
     "output_type": "stream",
     "text": [
      "[*********************100%%**********************]  1 of 1 completed"
     ]
    },
    {
     "name": "stdout",
     "output_type": "stream",
     "text": [
      "2024-05-06 BUY META because META RSI: 46.68 (yesterday=40.47) above RSI-MA 46.10 under RSI < 50.00 threshold\n",
      "Context:\n",
      "2024-04-30, META, close: 430.17,  rsi: 29.10, rsi-ma: 48.38, position: 0.00, pnl-pct: 0.00%\n",
      "2024-05-01, META, close: 439.19,  rsi: 33.92, rsi-ma: 47.35, position: 0.00, pnl-pct: 0.00%\n",
      "2024-05-02, META, close: 441.68,  rsi: 35.23, rsi-ma: 46.48, position: 0.00, pnl-pct: 0.00%\n",
      "2024-05-03, META, close: 451.96,  rsi: 40.47, rsi-ma: 46.05, position: 0.00, pnl-pct: 0.00%\n",
      "2024-05-06, META, close: 465.68, *rsi: 46.68, rsi-ma: 46.10, position: 0.00, pnl-pct: 0.00%\n"
     ]
    },
    {
     "name": "stderr",
     "output_type": "stream",
     "text": [
      "\n"
     ]
    }
   ],
   "source": [
    "from conf import *\n",
    "\n",
    "from services.stock_compute_service import StockComputeService\n",
    "\n",
    "trade_actions = StockComputeService('META', '2024-05-06', None).trades_today()\n",
    "for  trade_action in trade_actions:\n",
    "    print(trade_action.as_text())"
   ]
  },
  {
   "cell_type": "code",
   "execution_count": null,
   "metadata": {},
   "outputs": [],
   "source": []
  }
 ],
 "metadata": {
  "kernelspec": {
   "display_name": ".venv",
   "language": "python",
   "name": "python3"
  },
  "language_info": {
   "codemirror_mode": {
    "name": "ipython",
    "version": 3
   },
   "file_extension": ".py",
   "mimetype": "text/x-python",
   "name": "python",
   "nbconvert_exporter": "python",
   "pygments_lexer": "ipython3",
   "version": "3.10.14"
  }
 },
 "nbformat": 4,
 "nbformat_minor": 2
}
