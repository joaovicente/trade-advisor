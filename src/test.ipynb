{
 "cells": [
  {
   "cell_type": "code",
   "execution_count": 1,
   "metadata": {},
   "outputs": [
    {
     "name": "stdout",
     "output_type": "stream",
     "text": [
      "/home/joao/code/trade-advisor/src\n"
     ]
    },
    {
     "name": "stderr",
     "output_type": "stream",
     "text": [
      "[*********************100%%**********************]  1 of 1 completed"
     ]
    },
    {
     "name": "stdout",
     "output_type": "stream",
     "text": [
      "2024-05-06 BUY META because META RSI: 46.68 (yesterday=40.47) above RSI-MA 46.10 under RSI < 50.00 threshold\n",
      "Context:\n",
      "2024-04-30, META, close: 430.17,  rsi: 29.10, rsi-ma: 48.38, position: 0.00, pnl-pct: 0.00%\n",
      "2024-05-01, META, close: 439.19,  rsi: 33.92, rsi-ma: 47.35, position: 0.00, pnl-pct: 0.00%\n",
      "2024-05-02, META, close: 441.68,  rsi: 35.23, rsi-ma: 46.48, position: 0.00, pnl-pct: 0.00%\n",
      "2024-05-03, META, close: 451.96,  rsi: 40.47, rsi-ma: 46.05, position: 0.00, pnl-pct: 0.00%\n",
      "2024-05-06, META, close: 465.68, *rsi: 46.68, rsi-ma: 46.10, position: 0.00, pnl-pct: 0.00%\n"
     ]
    },
    {
     "name": "stderr",
     "output_type": "stream",
     "text": [
      "\n"
     ]
    }
   ],
   "source": [
    "# FIXME: Move notebook to notebook folder and solve path issue\n",
    "# Setup path\n",
    "#import sys, os\n",
    "#current_dir = os.getcwd()\n",
    "#src_path = os.path.join(current_dir, '..', 'src')\n",
    "#sys.path.append(os.path.abspath(src_path))\n",
    "#print(sys.path)\n",
    "\n",
    "from services.stock_compute_service import StockComputeService\n",
    "\n",
    "trade_actions = StockComputeService('META', '2024-05-06', None).trades_today()\n",
    "for  trade_action in trade_actions:\n",
    "    print(trade_action.as_text())"
   ]
  },
  {
   "cell_type": "markdown",
   "metadata": {},
   "source": [
    "```\n",
    "trades_today: start_date=2024-03-19, end_date=2024-05-07\n",
    "next (unwarmed): 2024-04-26\n",
    "next (unwarmed): 2024-04-29\n",
    "next (warmed)  : 2024-04-30\n",
    "2024-04-30, META Close: 430.17, RSI: 28.36, RSI-MA: 45.73, Position: 0.00, PNL: 0.00%\n",
    "next (warmed)  : 2024-05-01\n",
    "2024-05-01, META Close: 439.19, RSI: 33.37, RSI-MA: 44.84, Position: 0.00, PNL: 0.00%\n",
    "next (warmed)  : 2024-05-02\n",
    "2024-05-02, META Close: 441.68, RSI: 34.72, RSI-MA: 44.12, Position: 0.00, PNL: 0.00%\n",
    "next (warmed)  : 2024-05-03\n",
    "2024-05-03, META Close: 451.96, RSI: 40.14, RSI-MA: 43.84, Position: 0.00, PNL: 0.00%\n",
    "next (warmed)  : 2024-05-06\n",
    "2024-05-06, META Close: 465.68, RSI: 46.52, RSI-MA: 44.03, Position: 0.00, PNL: 0.00%\n",
    "```\n",
    "\n",
    "\n",
    "When start date is 2023-07-29\n",
    "```\n",
    "2023-09-28, SNOW Close: 151.12, RSI: 39.84, RSI-MA: 39.05, Position: 0.00, PNL: 0.00%\n",
    "2023-09-28, SNOW BUY CREATE, 151.12\n",
    "2023-09-28, NVDA Close: 43.09, RSI: 42.79, RSI-MA: 42.48, Position: 0.00, PNL: 0.00%\n",
    "2023-09-28, NVDA BUY CREATE, 43.09\n",
    "```\n",
    "\n",
    "\n",
    "When start date is 2022-10-07\n",
    "\n",
    "```\n",
    "2023-09-28, SNOW Close: 151.12, RSI: 42.30, RSI-MA: 44.92, Position: 0.00, PNL: 0.00%\n",
    "2023-09-28, NVDA Close: 43.09, RSI: 44.54, RSI-MA: 46.10, Position: 0.00, PNL: 0.00%\n",
    "```"
   ]
  },
  {
   "cell_type": "markdown",
   "metadata": {},
   "source": []
  }
 ],
 "metadata": {
  "kernelspec": {
   "display_name": ".venv",
   "language": "python",
   "name": "python3"
  },
  "language_info": {
   "codemirror_mode": {
    "name": "ipython",
    "version": 3
   },
   "file_extension": ".py",
   "mimetype": "text/x-python",
   "name": "python",
   "nbconvert_exporter": "python",
   "pygments_lexer": "ipython3",
   "version": "3.10.14"
  }
 },
 "nbformat": 4,
 "nbformat_minor": 2
}
