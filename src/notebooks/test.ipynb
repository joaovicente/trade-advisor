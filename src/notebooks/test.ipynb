{
 "cells": [
  {
   "cell_type": "code",
   "execution_count": 1,
   "metadata": {},
   "outputs": [
    {
     "ename": "ModuleNotFoundError",
     "evalue": "No module named 'services'",
     "output_type": "error",
     "traceback": [
      "\u001b[0;31m---------------------------------------------------------------------------\u001b[0m",
      "\u001b[0;31mModuleNotFoundError\u001b[0m                       Traceback (most recent call last)",
      "Cell \u001b[0;32mIn[1], line 1\u001b[0m\n\u001b[0;32m----> 1\u001b[0m \u001b[38;5;28;01mfrom\u001b[39;00m \u001b[38;5;21;01mservices\u001b[39;00m\u001b[38;5;21;01m.\u001b[39;00m\u001b[38;5;21;01mstock_compute_service\u001b[39;00m \u001b[38;5;28;01mimport\u001b[39;00m StockComputeService\n\u001b[1;32m      3\u001b[0m \u001b[38;5;66;03m#trades_today('SNOW,NVDA', '2023-09-28')\u001b[39;00m\n\u001b[1;32m      4\u001b[0m trade_actions \u001b[38;5;241m=\u001b[39m StockComputeService(\u001b[38;5;124m'\u001b[39m\u001b[38;5;124mMETA\u001b[39m\u001b[38;5;124m'\u001b[39m, \u001b[38;5;124m'\u001b[39m\u001b[38;5;124m2024-05-06\u001b[39m\u001b[38;5;124m'\u001b[39m, \u001b[38;5;28;01mNone\u001b[39;00m)\u001b[38;5;241m.\u001b[39mtrades_today()\n",
      "\u001b[0;31mModuleNotFoundError\u001b[0m: No module named 'services'"
     ]
    }
   ],
   "source": [
    "from services.stock_compute_service import StockComputeService\n",
    "\n",
    "#trades_today('SNOW,NVDA', '2023-09-28')\n",
    "trade_actions = StockComputeService('META', '2024-05-06', None).trades_today()\n",
    "for  trade_action in trade_actions:\n",
    "    print(trade_action.as_text())\n",
    "#trades_today('META', '2024-05-06')"
   ]
  },
  {
   "cell_type": "markdown",
   "metadata": {},
   "source": [
    "```\n",
    "trades_today: start_date=2024-03-19, end_date=2024-05-07\n",
    "next (unwarmed): 2024-04-26\n",
    "next (unwarmed): 2024-04-29\n",
    "next (warmed)  : 2024-04-30\n",
    "2024-04-30, META Close: 430.17, RSI: 28.36, RSI-MA: 45.73, Position: 0.00, PNL: 0.00%\n",
    "next (warmed)  : 2024-05-01\n",
    "2024-05-01, META Close: 439.19, RSI: 33.37, RSI-MA: 44.84, Position: 0.00, PNL: 0.00%\n",
    "next (warmed)  : 2024-05-02\n",
    "2024-05-02, META Close: 441.68, RSI: 34.72, RSI-MA: 44.12, Position: 0.00, PNL: 0.00%\n",
    "next (warmed)  : 2024-05-03\n",
    "2024-05-03, META Close: 451.96, RSI: 40.14, RSI-MA: 43.84, Position: 0.00, PNL: 0.00%\n",
    "next (warmed)  : 2024-05-06\n",
    "2024-05-06, META Close: 465.68, RSI: 46.52, RSI-MA: 44.03, Position: 0.00, PNL: 0.00%\n",
    "```\n",
    "\n",
    "\n",
    "When start date is 2023-07-29\n",
    "```\n",
    "2023-09-28, SNOW Close: 151.12, RSI: 39.84, RSI-MA: 39.05, Position: 0.00, PNL: 0.00%\n",
    "2023-09-28, SNOW BUY CREATE, 151.12\n",
    "2023-09-28, NVDA Close: 43.09, RSI: 42.79, RSI-MA: 42.48, Position: 0.00, PNL: 0.00%\n",
    "2023-09-28, NVDA BUY CREATE, 43.09\n",
    "```\n",
    "\n",
    "\n",
    "When start date is 2022-10-07\n",
    "\n",
    "```\n",
    "2023-09-28, SNOW Close: 151.12, RSI: 42.30, RSI-MA: 44.92, Position: 0.00, PNL: 0.00%\n",
    "2023-09-28, NVDA Close: 43.09, RSI: 44.54, RSI-MA: 46.10, Position: 0.00, PNL: 0.00%\n",
    "```"
   ]
  },
  {
   "cell_type": "markdown",
   "metadata": {},
   "source": []
  }
 ],
 "metadata": {
  "kernelspec": {
   "display_name": ".venv",
   "language": "python",
   "name": "python3"
  },
  "language_info": {
   "codemirror_mode": {
    "name": "ipython",
    "version": 3
   },
   "file_extension": ".py",
   "mimetype": "text/x-python",
   "name": "python",
   "nbconvert_exporter": "python",
   "pygments_lexer": "ipython3",
   "version": "3.10.14"
  }
 },
 "nbformat": 4,
 "nbformat_minor": 2
}
