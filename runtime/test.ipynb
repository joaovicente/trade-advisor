{
 "cells": [
  {
   "cell_type": "code",
   "execution_count": 2,
   "metadata": {},
   "outputs": [
    {
     "name": "stderr",
     "output_type": "stream",
     "text": [
      "[*********************100%%**********************]  1 of 1 completed"
     ]
    },
    {
     "name": "stdout",
     "output_type": "stream",
     "text": [
      "trades_today: start_date=2024-03-12, end_date=2024-05-07\n",
      "2024-04-23, META Close: 496.10, RSI: 47.13, RSI-MA: 51.07, Position: 0.00, PNL: 0.00%\n",
      "2024-04-24, META Close: 493.50, RSI: 45.88, RSI-MA: 50.70, Position: 0.00, PNL: 0.00%\n",
      "2024-04-25, META Close: 441.38, RSI: 29.21, RSI-MA: 49.17, Position: 0.00, PNL: 0.00%\n",
      "2024-04-26, META Close: 443.29, RSI: 30.21, RSI-MA: 47.81, Position: 0.00, PNL: 0.00%\n",
      "2024-04-29, META Close: 432.62, RSI: 27.85, RSI-MA: 46.39, Position: 0.00, PNL: 0.00%\n",
      "2024-04-30, META Close: 430.17, RSI: 27.32, RSI-MA: 45.03, Position: 0.00, PNL: 0.00%\n",
      "2024-05-01, META Close: 439.19, RSI: 32.41, RSI-MA: 44.13, Position: 0.00, PNL: 0.00%\n",
      "2024-05-02, META Close: 441.68, RSI: 33.79, RSI-MA: 43.39, Position: 0.00, PNL: 0.00%\n",
      "2024-05-03, META Close: 451.96, RSI: 39.30, RSI-MA: 43.09, Position: 0.00, PNL: 0.00%\n",
      "2024-05-06, META Close: 465.68, RSI: 45.78, RSI-MA: 43.29, Position: 0.00, PNL: 0.00%\n",
      "2024-05-06, META BUY CREATE, 465.68\n",
      "TradeAction(date=2024-05-06, action=BUY, ticker=META, reason=None, context=None\n"
     ]
    },
    {
     "name": "stderr",
     "output_type": "stream",
     "text": [
      "\n"
     ]
    }
   ],
   "source": [
    "from api.services.backtesting_service import trades_today\n",
    "\n",
    "#trades_today('SNOW,NVDA', '2023-09-28')\n",
    "trades_today('META', '2024-05-06')"
   ]
  },
  {
   "cell_type": "markdown",
   "metadata": {},
   "source": [
    "```\n",
    "trades_today: start_date=2024-03-19, end_date=2024-05-07\n",
    "next (unwarmed): 2024-04-26\n",
    "next (unwarmed): 2024-04-29\n",
    "next (warmed)  : 2024-04-30\n",
    "2024-04-30, META Close: 430.17, RSI: 28.36, RSI-MA: 45.73, Position: 0.00, PNL: 0.00%\n",
    "next (warmed)  : 2024-05-01\n",
    "2024-05-01, META Close: 439.19, RSI: 33.37, RSI-MA: 44.84, Position: 0.00, PNL: 0.00%\n",
    "next (warmed)  : 2024-05-02\n",
    "2024-05-02, META Close: 441.68, RSI: 34.72, RSI-MA: 44.12, Position: 0.00, PNL: 0.00%\n",
    "next (warmed)  : 2024-05-03\n",
    "2024-05-03, META Close: 451.96, RSI: 40.14, RSI-MA: 43.84, Position: 0.00, PNL: 0.00%\n",
    "next (warmed)  : 2024-05-06\n",
    "2024-05-06, META Close: 465.68, RSI: 46.52, RSI-MA: 44.03, Position: 0.00, PNL: 0.00%\n",
    "```\n",
    "\n",
    "\n",
    "When start date is 2023-07-29\n",
    "```\n",
    "2023-09-28, SNOW Close: 151.12, RSI: 39.84, RSI-MA: 39.05, Position: 0.00, PNL: 0.00%\n",
    "2023-09-28, SNOW BUY CREATE, 151.12\n",
    "2023-09-28, NVDA Close: 43.09, RSI: 42.79, RSI-MA: 42.48, Position: 0.00, PNL: 0.00%\n",
    "2023-09-28, NVDA BUY CREATE, 43.09\n",
    "```\n",
    "\n",
    "\n",
    "When start date is 2022-10-07\n",
    "\n",
    "```\n",
    "2023-09-28, SNOW Close: 151.12, RSI: 42.30, RSI-MA: 44.92, Position: 0.00, PNL: 0.00%\n",
    "2023-09-28, NVDA Close: 43.09, RSI: 44.54, RSI-MA: 46.10, Position: 0.00, PNL: 0.00%\n",
    "```"
   ]
  },
  {
   "cell_type": "markdown",
   "metadata": {},
   "source": []
  }
 ],
 "metadata": {
  "kernelspec": {
   "display_name": ".venv",
   "language": "python",
   "name": "python3"
  },
  "language_info": {
   "codemirror_mode": {
    "name": "ipython",
    "version": 3
   },
   "file_extension": ".py",
   "mimetype": "text/x-python",
   "name": "python",
   "nbconvert_exporter": "python",
   "pygments_lexer": "ipython3",
   "version": "3.10.14"
  }
 },
 "nbformat": 4,
 "nbformat_minor": 2
}
